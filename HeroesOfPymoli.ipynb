{
 "cells": [
  {
   "cell_type": "code",
   "execution_count": 2,
   "metadata": {},
   "outputs": [],
   "source": [
    "#Dependencises and Setup\n",
    "import pandas as pd\n",
    "#File to Load in HeroesOfPymoli\n",
    "file_to_load = \"Resources/purchase_data.csv\"\n",
    "\n",
    "# Put file data in pandas Dataframe\n",
    "purchase_data_df = pd.read_csv(file_to_load)"
   ]
  },
  {
   "cell_type": "markdown",
   "metadata": {},
   "source": [
    "#  Player Count\n",
    "\n",
    "-  *Display the total number of Players*"
   ]
  },
  {
   "cell_type": "code",
   "execution_count": 3,
   "metadata": {},
   "outputs": [
    {
     "data": {
      "text/html": [
       "<div>\n",
       "<style scoped>\n",
       "    .dataframe tbody tr th:only-of-type {\n",
       "        vertical-align: middle;\n",
       "    }\n",
       "\n",
       "    .dataframe tbody tr th {\n",
       "        vertical-align: top;\n",
       "    }\n",
       "\n",
       "    .dataframe thead th {\n",
       "        text-align: right;\n",
       "    }\n",
       "</style>\n",
       "<table border=\"1\" class=\"dataframe\">\n",
       "  <thead>\n",
       "    <tr style=\"text-align: right;\">\n",
       "      <th></th>\n",
       "      <th>Total Players</th>\n",
       "    </tr>\n",
       "  </thead>\n",
       "  <tbody>\n",
       "    <tr>\n",
       "      <th>0</th>\n",
       "      <td>576</td>\n",
       "    </tr>\n",
       "  </tbody>\n",
       "</table>\n",
       "</div>"
      ],
      "text/plain": [
       "   Total Players\n",
       "0            576"
      ]
     },
     "execution_count": 3,
     "metadata": {},
     "output_type": "execute_result"
    }
   ],
   "source": [
    "total_players = len(purchase_data_df[\"SN\"].value_counts())\n",
    "pd.DataFrame([total_players], columns=[\"Total Players\"])"
   ]
  },
  {
   "cell_type": "markdown",
   "metadata": {},
   "source": [
    "# Purchasing Analysis (Total)\n",
    "- Run basic calculations to obtain number of unique items, average price, etc.\n",
    "- Create a summary data frame to hold the results\n",
    "- Optional: give the displayed data cleaner formatting\n",
    "- Display the summary data frame"
   ]
  },
  {
   "cell_type": "code",
   "execution_count": 5,
   "metadata": {},
   "outputs": [
    {
     "data": {
      "text/html": [
       "<div>\n",
       "<style scoped>\n",
       "    .dataframe tbody tr th:only-of-type {\n",
       "        vertical-align: middle;\n",
       "    }\n",
       "\n",
       "    .dataframe tbody tr th {\n",
       "        vertical-align: top;\n",
       "    }\n",
       "\n",
       "    .dataframe thead th {\n",
       "        text-align: right;\n",
       "    }\n",
       "</style>\n",
       "<table border=\"1\" class=\"dataframe\">\n",
       "  <thead>\n",
       "    <tr style=\"text-align: right;\">\n",
       "      <th></th>\n",
       "      <th>number_of_unique_items</th>\n",
       "      <th>average_price_of_items</th>\n",
       "      <th>number_of_purchases</th>\n",
       "      <th>total_sales_revenue</th>\n",
       "    </tr>\n",
       "  </thead>\n",
       "  <tbody>\n",
       "    <tr>\n",
       "      <th>0</th>\n",
       "      <td>179</td>\n",
       "      <td>3.05</td>\n",
       "      <td>780</td>\n",
       "      <td>2379.77</td>\n",
       "    </tr>\n",
       "  </tbody>\n",
       "</table>\n",
       "</div>"
      ],
      "text/plain": [
       "   number_of_unique_items  average_price_of_items  number_of_purchases  \\\n",
       "0                     179                    3.05                  780   \n",
       "\n",
       "   total_sales_revenue  \n",
       "0              2379.77  "
      ]
     },
     "execution_count": 5,
     "metadata": {},
     "output_type": "execute_result"
    }
   ],
   "source": [
    "number_of_unique_items = len(purchase_data_df[\"Item ID\"].value_counts())\n",
    "average_price_of_items = round(purchase_data_df[\"Price\"].mean(),2)\n",
    "number_of_purchases = purchase_data_df[\"Purchase ID\"].count()\n",
    "total_sales_revenue = purchase_data_df[\"Price\"].sum()\n",
    "pd.DataFrame({\"number_of_unique_items\": [number_of_unique_items], \n",
    "              \"average_price_of_items\": [average_price_of_items],\n",
    "              \"number_of_purchases\": [number_of_purchases],\n",
    "              \"total_sales_revenue\": [total_sales_revenue]})"
   ]
  },
  {
   "cell_type": "markdown",
   "metadata": {},
   "source": [
    "# Gender Demographics\n",
    "- Percentage and Count of Male Players\n",
    "- Percentage and Count of Female Players\n",
    "- Percentage and Count of Other / Non-Disclosed"
   ]
  },
  {
   "cell_type": "code",
   "execution_count": 95,
   "metadata": {},
   "outputs": [
    {
     "data": {
      "text/html": [
       "<div>\n",
       "<style scoped>\n",
       "    .dataframe tbody tr th:only-of-type {\n",
       "        vertical-align: middle;\n",
       "    }\n",
       "\n",
       "    .dataframe tbody tr th {\n",
       "        vertical-align: top;\n",
       "    }\n",
       "\n",
       "    .dataframe thead th {\n",
       "        text-align: right;\n",
       "    }\n",
       "</style>\n",
       "<table border=\"1\" class=\"dataframe\">\n",
       "  <thead>\n",
       "    <tr style=\"text-align: right;\">\n",
       "      <th></th>\n",
       "      <th>Total Count</th>\n",
       "      <th>Percentage of Players</th>\n",
       "    </tr>\n",
       "  </thead>\n",
       "  <tbody>\n",
       "    <tr>\n",
       "      <th>Male</th>\n",
       "      <td>484</td>\n",
       "      <td>84.03%</td>\n",
       "    </tr>\n",
       "    <tr>\n",
       "      <th>Female</th>\n",
       "      <td>81</td>\n",
       "      <td>14.06%</td>\n",
       "    </tr>\n",
       "    <tr>\n",
       "      <th>Other/Non-Disclosed</th>\n",
       "      <td>11</td>\n",
       "      <td>1.91%</td>\n",
       "    </tr>\n",
       "  </tbody>\n",
       "</table>\n",
       "</div>"
      ],
      "text/plain": [
       "                     Total Count  Percentage of Players\n",
       "Male                         484                 84.03%\n",
       "Female                        81                 14.06%\n",
       "Other/Non-Disclosed           11                  1.91%"
      ]
     },
     "execution_count": 95,
     "metadata": {},
     "output_type": "execute_result"
    }
   ],
   "source": [
    "gender_df = purchase_data_df[[ \"SN\" , \"Gender\"]].drop_duplicates()\n",
    "gender_list = gender_df[\"Gender\"].value_counts()\n",
    "total_count_players = [gender_list[0], gender_list[1], gender_list[2]]\n",
    "cnt_total_players = gender_df[\"Gender\"].value_counts().sum()\n",
    "percentage_male_players = round(gender_list[0] * 100 / cnt_total_players,2)\n",
    "percentage_female_players = round(gender_list[1] * 100 / cnt_total_players,2)\n",
    "percentage_other_players = round(gender_list[2] * 100 / cnt_total_players,2)\n",
    "percentage_list = [percentage_male_players, percentage_female_players , percentage_other_players ]\n",
    "pd.options.display.float_format = '{:,.2f}%'.format\n",
    "pd.DataFrame({\"Total Count\" : total_count_players, \"Percentage of Players\": percentage_list }, index = [\"Male\",\"Female\",\"Other/Non-Disclosed\"])\n"
   ]
  },
  {
   "cell_type": "markdown",
   "metadata": {},
   "source": [
    "# Purchasing Analysis (Gender)\n",
    "- Run basic calculations to obtain purchase count, avg. purchase price, avg. purchase total per person etc. by gender\n",
    "- Create a summary data frame to hold the results\n",
    "- Optional: give the displayed data cleaner formatting\n",
    "- Display the summary data frame\n"
   ]
  },
  {
   "cell_type": "code",
   "execution_count": 110,
   "metadata": {},
   "outputs": [
    {
     "data": {
      "text/html": [
       "<div>\n",
       "<style scoped>\n",
       "    .dataframe tbody tr th:only-of-type {\n",
       "        vertical-align: middle;\n",
       "    }\n",
       "\n",
       "    .dataframe tbody tr th {\n",
       "        vertical-align: top;\n",
       "    }\n",
       "\n",
       "    .dataframe thead th {\n",
       "        text-align: right;\n",
       "    }\n",
       "</style>\n",
       "<table border=\"1\" class=\"dataframe\">\n",
       "  <thead>\n",
       "    <tr style=\"text-align: right;\">\n",
       "      <th></th>\n",
       "      <th>Purchase ID</th>\n",
       "      <th>SN</th>\n",
       "      <th>Age</th>\n",
       "      <th>Gender</th>\n",
       "      <th>Item ID</th>\n",
       "      <th>Item Name</th>\n",
       "      <th>Price</th>\n",
       "    </tr>\n",
       "  </thead>\n",
       "  <tbody>\n",
       "    <tr>\n",
       "      <th>0</th>\n",
       "      <td>0</td>\n",
       "      <td>Lisim78</td>\n",
       "      <td>20</td>\n",
       "      <td>Male</td>\n",
       "      <td>108</td>\n",
       "      <td>Extraction, Quickblade Of Trembling Hands</td>\n",
       "      <td>3.53</td>\n",
       "    </tr>\n",
       "    <tr>\n",
       "      <th>1</th>\n",
       "      <td>1</td>\n",
       "      <td>Lisovynya38</td>\n",
       "      <td>40</td>\n",
       "      <td>Male</td>\n",
       "      <td>143</td>\n",
       "      <td>Frenzied Scimitar</td>\n",
       "      <td>1.56</td>\n",
       "    </tr>\n",
       "    <tr>\n",
       "      <th>2</th>\n",
       "      <td>2</td>\n",
       "      <td>Ithergue48</td>\n",
       "      <td>24</td>\n",
       "      <td>Male</td>\n",
       "      <td>92</td>\n",
       "      <td>Final Critic</td>\n",
       "      <td>4.88</td>\n",
       "    </tr>\n",
       "    <tr>\n",
       "      <th>3</th>\n",
       "      <td>3</td>\n",
       "      <td>Chamassasya86</td>\n",
       "      <td>24</td>\n",
       "      <td>Male</td>\n",
       "      <td>100</td>\n",
       "      <td>Blindscythe</td>\n",
       "      <td>3.27</td>\n",
       "    </tr>\n",
       "    <tr>\n",
       "      <th>4</th>\n",
       "      <td>4</td>\n",
       "      <td>Iskosia90</td>\n",
       "      <td>23</td>\n",
       "      <td>Male</td>\n",
       "      <td>131</td>\n",
       "      <td>Fury</td>\n",
       "      <td>1.44</td>\n",
       "    </tr>\n",
       "  </tbody>\n",
       "</table>\n",
       "</div>"
      ],
      "text/plain": [
       "   Purchase ID             SN  Age Gender  Item ID  \\\n",
       "0            0        Lisim78   20   Male      108   \n",
       "1            1    Lisovynya38   40   Male      143   \n",
       "2            2     Ithergue48   24   Male       92   \n",
       "3            3  Chamassasya86   24   Male      100   \n",
       "4            4      Iskosia90   23   Male      131   \n",
       "\n",
       "                                   Item Name  Price  \n",
       "0  Extraction, Quickblade Of Trembling Hands   3.53  \n",
       "1                          Frenzied Scimitar   1.56  \n",
       "2                               Final Critic   4.88  \n",
       "3                                Blindscythe   3.27  \n",
       "4                                       Fury   1.44  "
      ]
     },
     "execution_count": 110,
     "metadata": {},
     "output_type": "execute_result"
    }
   ],
   "source": [
    "pd.options.display.float_format = '{:,.2f}'.format\n",
    "purchase_data_df.head()\n"
   ]
  },
  {
   "cell_type": "code",
   "execution_count": 112,
   "metadata": {},
   "outputs": [
    {
     "data": {
      "text/plain": [
       "780"
      ]
     },
     "execution_count": 112,
     "metadata": {},
     "output_type": "execute_result"
    }
   ],
   "source": [
    "\n"
   ]
  },
  {
   "cell_type": "code",
   "execution_count": 162,
   "metadata": {},
   "outputs": [],
   "source": [
    "#Purchase count calculation \n",
    "male_purchase_count = purchase_data_df[\"Gender\"].value_counts()[\"Male\"]\n",
    "female_purchase_count = purchase_data_df[\"Gender\"].value_counts()[\"Female\"]\n",
    "other_purchase_count = purchase_data_df[\"Gender\"].value_counts()[\"Other / Non-Disclosed\"]\n",
    "total_purchase_count = male_purchase_count + female_purchase_count + other_purchase_count\n",
    "### Purchase LIST #####\n",
    "purchase_count_list = [female_purchase_count, male_purchase_count, other_purchase_count]\n",
    "\n",
    "# Average Purchase Price calculation\n",
    "male_purchase_df = purchase_data_df.loc[purchase_data_df[\"Gender\"] == \"Male\"]\n",
    "female_purchase_df = purchase_data_df.loc[purchase_data_df[\"Gender\"] == \"Female\"]\n",
    "other_purchase_df = purchase_data_df.loc[purchase_data_df[\"Gender\"] == \"Other / Non-Disclosed\"]\n",
    "male_avg_purchase_price = round(male_purchase_df[\"Price\"].mean(),2)\n",
    "female_avg_purchase_price = round(female_purchase_df[\"Price\"].mean(),2)\n",
    "other_avg_purchase_price = round(other_purchase_df[\"Price\"].mean(),2)\n",
    "#### List ###\n",
    "avg_purchase_price_list = [female_avg_purchase_price, male_avg_purchase_price, other_avg_purchase_price]\n",
    "total_avg_purchase_price = purchase_data_df[\"Price\"].mean\n",
    "#total purchase value\n",
    "male_total_purchase_value = male_purchase_df[\"Price\"].sum()\n",
    "female_total_purchase_value = female_purchase_df[\"Price\"].sum()\n",
    "other_total_purchase_value = other_purchase_df[\"Price\"].sum()\n",
    "#### List ####\n",
    "total_purchase_list = [female_total_purchase_value, male_total_purchase_value, other_total_purchase_value]\n",
    "purchase_data_df[\"Price\"].sum()\n",
    "\n",
    "#Average total purchase per person\n",
    "avg_male_purchase_per_person = round(male_purchase_df[\"Price\"].sum() / gender_list[0],2)\n",
    "avg_female_purchase_per_person = round(female_purchase_df[\"Price\"].sum() / gender_list[1],2)\n",
    "avg_other_purchase_per_person = round(other_purchase_df[\"Price\"].sum() / gender_list[2],2)\n",
    "#### List ####3\n",
    "avg_purchase_per_person_list = [avg_female_purchase_per_person, avg_male_purchase_per_person, avg_other_purchase_per_person ]"
   ]
  },
  {
   "cell_type": "code",
   "execution_count": 165,
   "metadata": {},
   "outputs": [
    {
     "data": {
      "text/html": [
       "<div>\n",
       "<style scoped>\n",
       "    .dataframe tbody tr th:only-of-type {\n",
       "        vertical-align: middle;\n",
       "    }\n",
       "\n",
       "    .dataframe tbody tr th {\n",
       "        vertical-align: top;\n",
       "    }\n",
       "\n",
       "    .dataframe thead th {\n",
       "        text-align: right;\n",
       "    }\n",
       "</style>\n",
       "<table border=\"1\" class=\"dataframe\">\n",
       "  <thead>\n",
       "    <tr style=\"text-align: right;\">\n",
       "      <th></th>\n",
       "      <th>Purchase Count</th>\n",
       "      <th>Average Purchase Price</th>\n",
       "      <th>Total Purchase Value</th>\n",
       "      <th>Avg Total Purchase per Person</th>\n",
       "    </tr>\n",
       "    <tr>\n",
       "      <th>Gender</th>\n",
       "      <th></th>\n",
       "      <th></th>\n",
       "      <th></th>\n",
       "      <th></th>\n",
       "    </tr>\n",
       "  </thead>\n",
       "  <tbody>\n",
       "    <tr>\n",
       "      <th>Female</th>\n",
       "      <td>113</td>\n",
       "      <td>3.20</td>\n",
       "      <td>361.94</td>\n",
       "      <td>4.47</td>\n",
       "    </tr>\n",
       "    <tr>\n",
       "      <th>Male</th>\n",
       "      <td>652</td>\n",
       "      <td>3.02</td>\n",
       "      <td>1,967.64</td>\n",
       "      <td>4.07</td>\n",
       "    </tr>\n",
       "    <tr>\n",
       "      <th>Other/Non-Disclosed</th>\n",
       "      <td>15</td>\n",
       "      <td>3.35</td>\n",
       "      <td>50.19</td>\n",
       "      <td>4.56</td>\n",
       "    </tr>\n",
       "  </tbody>\n",
       "</table>\n",
       "</div>"
      ],
      "text/plain": [
       "                     Purchase Count  Average Purchase Price  \\\n",
       "Gender                                                        \n",
       "Female                          113                    3.20   \n",
       "Male                            652                    3.02   \n",
       "Other/Non-Disclosed              15                    3.35   \n",
       "\n",
       "                     Total Purchase Value   Avg Total Purchase per Person  \n",
       "Gender                                                                     \n",
       "Female                             361.94                            4.47  \n",
       "Male                             1,967.64                            4.07  \n",
       "Other/Non-Disclosed                 50.19                            4.56  "
      ]
     },
     "execution_count": 165,
     "metadata": {},
     "output_type": "execute_result"
    }
   ],
   "source": [
    "# create dataframe from purchasing analysis data to display in specific format\n",
    "pd.DataFrame({\"Purchase Count\" : purchase_count_list, \n",
    "              \"Average Purchase Price\": avg_purchase_price_list,\n",
    "              \"Total Purchase Value\": total_purchase_list,\n",
    "              \" Avg Total Purchase per Person\": avg_purchase_per_person_list }, \n",
    "             index = [\"Female\",\"Male\",\"Other/Non-Disclosed\"]).rename_axis(\"Gender\")"
   ]
  },
  {
   "cell_type": "code",
   "execution_count": 149,
   "metadata": {},
   "outputs": [],
   "source": []
  },
  {
   "cell_type": "code",
   "execution_count": 150,
   "metadata": {},
   "outputs": [
    {
     "data": {
      "text/plain": [
       "4.56"
      ]
     },
     "execution_count": 150,
     "metadata": {},
     "output_type": "execute_result"
    }
   ],
   "source": []
  },
  {
   "cell_type": "code",
   "execution_count": null,
   "metadata": {},
   "outputs": [],
   "source": []
  }
 ],
 "metadata": {
  "kernelspec": {
   "display_name": "Python 3",
   "language": "python",
   "name": "python3"
  },
  "language_info": {
   "codemirror_mode": {
    "name": "ipython",
    "version": 3
   },
   "file_extension": ".py",
   "mimetype": "text/x-python",
   "name": "python",
   "nbconvert_exporter": "python",
   "pygments_lexer": "ipython3",
   "version": "3.8.3"
  }
 },
 "nbformat": 4,
 "nbformat_minor": 4
}
